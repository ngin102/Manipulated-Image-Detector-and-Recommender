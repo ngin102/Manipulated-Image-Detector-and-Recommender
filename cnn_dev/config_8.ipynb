{
 "cells": [
  {
   "cell_type": "code",
   "execution_count": 1,
   "id": "20cb0a1e",
   "metadata": {},
   "outputs": [
    {
     "name": "stdout",
     "output_type": "stream",
     "text": [
      "Metal device set to: Apple M1 Max\n",
      "Epoch 1/20\n"
     ]
    },
    {
     "name": "stderr",
     "output_type": "stream",
     "text": [
      "2023-04-13 18:14:09.313175: W tensorflow/core/platform/profile_utils/cpu_utils.cc:128] Failed to get CPU frequency: 0 Hz\n"
     ]
    },
    {
     "name": "stdout",
     "output_type": "stream",
     "text": [
      "190/190 [==============================] - 276s 1s/step - loss: 0.5128 - accuracy: 0.7355 - val_loss: 0.3857 - val_accuracy: 0.8263\n",
      "Epoch 2/20\n",
      "190/190 [==============================] - 266s 1s/step - loss: 0.3821 - accuracy: 0.8215 - val_loss: 0.5051 - val_accuracy: 0.7586\n",
      "Epoch 3/20\n",
      "190/190 [==============================] - 258s 1s/step - loss: 0.3253 - accuracy: 0.8475 - val_loss: 0.3161 - val_accuracy: 0.8441\n",
      "Epoch 4/20\n",
      "190/190 [==============================] - 257s 1s/step - loss: 0.2808 - accuracy: 0.8681 - val_loss: 0.3146 - val_accuracy: 0.8513\n",
      "Epoch 5/20\n",
      "190/190 [==============================] - 254s 1s/step - loss: 0.2644 - accuracy: 0.8738 - val_loss: 0.3185 - val_accuracy: 0.8349\n",
      "Epoch 6/20\n",
      "190/190 [==============================] - 254s 1s/step - loss: 0.2231 - accuracy: 0.8913 - val_loss: 0.2846 - val_accuracy: 0.8533\n",
      "Epoch 7/20\n",
      "190/190 [==============================] - 253s 1s/step - loss: 0.2147 - accuracy: 0.9015 - val_loss: 0.2890 - val_accuracy: 0.8546\n",
      "Epoch 8/20\n",
      "190/190 [==============================] - 254s 1s/step - loss: 0.1994 - accuracy: 0.9095 - val_loss: 0.2938 - val_accuracy: 0.8645\n",
      "Epoch 9/20\n",
      "190/190 [==============================] - 252s 1s/step - loss: 0.1775 - accuracy: 0.9186 - val_loss: 0.3109 - val_accuracy: 0.8579\n",
      "Epoch 10/20\n",
      "190/190 [==============================] - 255s 1s/step - loss: 0.1645 - accuracy: 0.9219 - val_loss: 0.2694 - val_accuracy: 0.8855\n",
      "Epoch 11/20\n",
      "190/190 [==============================] - 257s 1s/step - loss: 0.1588 - accuracy: 0.9253 - val_loss: 0.3124 - val_accuracy: 0.8730\n",
      "Epoch 12/20\n",
      "190/190 [==============================] - 257s 1s/step - loss: 0.1488 - accuracy: 0.9294 - val_loss: 0.2867 - val_accuracy: 0.8822\n",
      "Epoch 13/20\n",
      "190/190 [==============================] - 264s 1s/step - loss: 0.1370 - accuracy: 0.9362 - val_loss: 0.2893 - val_accuracy: 0.8816\n",
      "Epoch 14/20\n",
      "190/190 [==============================] - 261s 1s/step - loss: 0.1312 - accuracy: 0.9395 - val_loss: 0.3092 - val_accuracy: 0.8803\n",
      "Epoch 15/20\n",
      "190/190 [==============================] - 259s 1s/step - loss: 0.1255 - accuracy: 0.9431 - val_loss: 0.4001 - val_accuracy: 0.8507\n",
      "Epoch 16/20\n",
      "190/190 [==============================] - 263s 1s/step - loss: 0.1249 - accuracy: 0.9398 - val_loss: 0.5155 - val_accuracy: 0.8132\n",
      "Epoch 17/20\n",
      "190/190 [==============================] - 258s 1s/step - loss: 0.1178 - accuracy: 0.9449 - val_loss: 0.2963 - val_accuracy: 0.8829\n",
      "Epoch 18/20\n",
      "190/190 [==============================] - 255s 1s/step - loss: 0.1201 - accuracy: 0.9416 - val_loss: 0.2901 - val_accuracy: 0.8901\n",
      "Epoch 19/20\n",
      "190/190 [==============================] - 255s 1s/step - loss: 0.1189 - accuracy: 0.9457 - val_loss: 0.3056 - val_accuracy: 0.8928\n",
      "Epoch 20/20\n",
      "190/190 [==============================] - 256s 1s/step - loss: 0.1150 - accuracy: 0.9490 - val_loss: 0.3272 - val_accuracy: 0.8914\n"
     ]
    }
   ],
   "source": [
    "import os\n",
    "import numpy as np\n",
    "from PIL import Image\n",
    "from sklearn.model_selection import train_test_split\n",
    "from tensorflow.keras.preprocessing.image import ImageDataGenerator\n",
    "import tensorflow as tf\n",
    "\n",
    "dataset_dir = \"archive_2/train_test\"\n",
    "\n",
    "def preprocess_image(image_path, target_size=(384, 384)):\n",
    "    with Image.open(image_path) as image:\n",
    "        image = image.convert(\"RGB\")\n",
    "    image = image.resize(target_size)\n",
    "    preprocessed_image = np.array(image) / 255.0\n",
    "    return preprocessed_image\n",
    "\n",
    "def is_authentic(filename):\n",
    "    prefix = filename[:2]\n",
    "    return (prefix == \"au\" or prefix == \"Au\")\n",
    "\n",
    "images = []\n",
    "labels = []\n",
    "\n",
    "for filename in os.listdir(dataset_dir):\n",
    "    if filename.startswith(\".DS_Store\"):\n",
    "        continue\n",
    "    file_path = os.path.join(dataset_dir, filename)\n",
    "    preprocessed_image = preprocess_image(file_path)\n",
    "    images.append(preprocessed_image)\n",
    "    label = is_authentic(filename)\n",
    "    labels.append(label)\n",
    "\n",
    "images = np.array(images)\n",
    "labels = np.array(labels)\n",
    "\n",
    "data_augmentation = ImageDataGenerator(\n",
    "    rotation_range = 25,\n",
    "    height_shift_range = 0.25,\n",
    "    width_shift_range = 0.25,\n",
    "    vertical_flip = True,\n",
    "    horizontal_flip = True,\n",
    "    zoom_range = 0.25\n",
    ")\n",
    "\n",
    "train_images, test_images, train_labels, test_labels = train_test_split(images, labels, test_size=0.2, random_state=42)\n",
    "\n",
    "# Define the model architecture\n",
    "base = tf.keras.applications.EfficientNetV2S(include_top=False, input_shape=train_images.shape[1:])\n",
    "\n",
    "x = tf.keras.layers.GlobalAveragePooling2D()(base.output)\n",
    "x = tf.keras.layers.Dense(128, activation='relu')(x)\n",
    "output = tf.keras.layers.Dense(1, activation='sigmoid')(x)\n",
    "model = tf.keras.Model(inputs=base.input, outputs=output)\n",
    "\n",
    "# Compile and train the model\n",
    "model.compile(optimizer=tf.keras.optimizers.Adam(learning_rate=1e-4),\n",
    "              loss='binary_crossentropy', metrics=['accuracy'])\n",
    "\n",
    "results = model.fit(data_augmentation.flow(train_images, train_labels, batch_size=32), epochs=20,\n",
    "                    steps_per_epoch=len(train_images) // 32,\n",
    "                    validation_data=(test_images, test_labels))"
   ]
  },
  {
   "cell_type": "code",
   "execution_count": 2,
   "id": "dce83f62",
   "metadata": {},
   "outputs": [
    {
     "name": "stderr",
     "output_type": "stream",
     "text": [
      "WARNING:absl:Found untraced functions such as _jit_compiled_convolution_op, _jit_compiled_convolution_op, _jit_compiled_convolution_op, _jit_compiled_convolution_op, _jit_compiled_convolution_op while saving (showing 5 of 170). These functions will not be directly callable after loading.\n"
     ]
    },
    {
     "name": "stdout",
     "output_type": "stream",
     "text": [
      "INFO:tensorflow:Assets written to: /var/folders/x9/lnqw3ctd65g1t8sjc2w_k5hm0000gn/T/tmpoad7ppby/assets\n"
     ]
    },
    {
     "name": "stderr",
     "output_type": "stream",
     "text": [
      "INFO:tensorflow:Assets written to: /var/folders/x9/lnqw3ctd65g1t8sjc2w_k5hm0000gn/T/tmpoad7ppby/assets\n",
      "2023-04-13 19:42:32.755161: W tensorflow/compiler/mlir/lite/python/tf_tfl_flatbuffer_helpers.cc:362] Ignored output_format.\n",
      "2023-04-13 19:42:32.755578: W tensorflow/compiler/mlir/lite/python/tf_tfl_flatbuffer_helpers.cc:365] Ignored drop_control_dependency.\n"
     ]
    }
   ],
   "source": [
    "# Convert and save the model as a TensorFlow Lite file\n",
    "converter = tf.lite.TFLiteConverter.from_keras_model(model)\n",
    "tflite_model = converter.convert()\n",
    "with open('manipulation_detector_config_8.tflite', 'wb') as f:\n",
    "    f.write(tflite_model)"
   ]
  },
  {
   "cell_type": "code",
   "execution_count": 3,
   "id": "edb22de7",
   "metadata": {},
   "outputs": [
    {
     "name": "stdout",
     "output_type": "stream",
     "text": [
      "48/48 [==============================] - 10s 201ms/step - loss: 0.3272 - accuracy: 0.8914\n",
      "Test accuracy: 0.8914473652839661\n"
     ]
    }
   ],
   "source": [
    "# Evaluate the model on the testing set and print the accuracy\n",
    "test_loss, test_acc = model.evaluate(test_images, test_labels)\n",
    "print(\"Test accuracy:\", test_acc)"
   ]
  }
 ],
 "metadata": {
  "kernelspec": {
   "display_name": "Python 3 (ipykernel)",
   "language": "python",
   "name": "python3"
  },
  "language_info": {
   "codemirror_mode": {
    "name": "ipython",
    "version": 3
   },
   "file_extension": ".py",
   "mimetype": "text/x-python",
   "name": "python",
   "nbconvert_exporter": "python",
   "pygments_lexer": "ipython3",
   "version": "3.10.9"
  }
 },
 "nbformat": 4,
 "nbformat_minor": 5
}

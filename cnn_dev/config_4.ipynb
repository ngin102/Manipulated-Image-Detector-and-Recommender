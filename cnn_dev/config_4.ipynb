{
 "cells": [
  {
   "cell_type": "code",
   "execution_count": 1,
   "id": "20cb0a1e",
   "metadata": {},
   "outputs": [
    {
     "name": "stdout",
     "output_type": "stream",
     "text": [
      "Metal device set to: Apple M1 Max\n",
      "Epoch 1/20\n"
     ]
    },
    {
     "name": "stderr",
     "output_type": "stream",
     "text": [
      "2023-04-13 16:20:07.781913: W tensorflow/core/platform/profile_utils/cpu_utils.cc:128] Failed to get CPU frequency: 0 Hz\n"
     ]
    },
    {
     "name": "stdout",
     "output_type": "stream",
     "text": [
      "196/196 [==============================] - 295s 1s/step - loss: 0.5281 - accuracy: 0.7288 - val_loss: 0.4162 - val_accuracy: 0.8027\n",
      "Epoch 2/20\n",
      "196/196 [==============================] - 281s 1s/step - loss: 0.3968 - accuracy: 0.8183 - val_loss: 0.3768 - val_accuracy: 0.8211\n",
      "Epoch 3/20\n",
      "196/196 [==============================] - 271s 1s/step - loss: 0.3274 - accuracy: 0.8507 - val_loss: 0.2776 - val_accuracy: 0.8674\n",
      "Epoch 4/20\n",
      "196/196 [==============================] - 269s 1s/step - loss: 0.2851 - accuracy: 0.8671 - val_loss: 0.2657 - val_accuracy: 0.8699\n",
      "Epoch 5/20\n",
      "196/196 [==============================] - 266s 1s/step - loss: 0.2576 - accuracy: 0.8847 - val_loss: 0.2631 - val_accuracy: 0.8687\n",
      "Epoch 6/20\n",
      "196/196 [==============================] - 278s 1s/step - loss: 0.2333 - accuracy: 0.8933 - val_loss: 0.2995 - val_accuracy: 0.8604\n",
      "Epoch 7/20\n",
      "196/196 [==============================] - 269s 1s/step - loss: 0.2131 - accuracy: 0.8966 - val_loss: 0.2470 - val_accuracy: 0.8845\n",
      "Epoch 8/20\n",
      "196/196 [==============================] - 267s 1s/step - loss: 0.2050 - accuracy: 0.9032 - val_loss: 0.2370 - val_accuracy: 0.8794\n",
      "Epoch 9/20\n",
      "196/196 [==============================] - 266s 1s/step - loss: 0.1909 - accuracy: 0.9129 - val_loss: 0.2709 - val_accuracy: 0.8623\n",
      "Epoch 10/20\n",
      "196/196 [==============================] - 271s 1s/step - loss: 0.1819 - accuracy: 0.9145 - val_loss: 0.3091 - val_accuracy: 0.8509\n",
      "Epoch 11/20\n",
      "196/196 [==============================] - 265s 1s/step - loss: 0.1732 - accuracy: 0.9196 - val_loss: 0.2397 - val_accuracy: 0.8782\n",
      "Epoch 12/20\n",
      "196/196 [==============================] - 266s 1s/step - loss: 0.1574 - accuracy: 0.9221 - val_loss: 0.2516 - val_accuracy: 0.8978\n",
      "Epoch 13/20\n",
      "196/196 [==============================] - 265s 1s/step - loss: 0.1594 - accuracy: 0.9233 - val_loss: 0.3996 - val_accuracy: 0.8363\n",
      "Epoch 14/20\n",
      "196/196 [==============================] - 265s 1s/step - loss: 0.1580 - accuracy: 0.9237 - val_loss: 0.2503 - val_accuracy: 0.8909\n",
      "Epoch 15/20\n",
      "196/196 [==============================] - 264s 1s/step - loss: 0.1484 - accuracy: 0.9314 - val_loss: 0.2500 - val_accuracy: 0.8934\n",
      "Epoch 16/20\n",
      "196/196 [==============================] - 267s 1s/step - loss: 0.1471 - accuracy: 0.9317 - val_loss: 0.2724 - val_accuracy: 0.9036\n",
      "Epoch 17/20\n",
      "196/196 [==============================] - 264s 1s/step - loss: 0.1465 - accuracy: 0.9334 - val_loss: 0.2847 - val_accuracy: 0.8718\n",
      "Epoch 18/20\n",
      "196/196 [==============================] - 267s 1s/step - loss: 0.1419 - accuracy: 0.9362 - val_loss: 0.2858 - val_accuracy: 0.8852\n",
      "Epoch 19/20\n",
      "196/196 [==============================] - 279s 1s/step - loss: 0.1327 - accuracy: 0.9370 - val_loss: 0.2909 - val_accuracy: 0.8871\n",
      "Epoch 20/20\n",
      "196/196 [==============================] - 273s 1s/step - loss: 0.1301 - accuracy: 0.9381 - val_loss: 0.2932 - val_accuracy: 0.8959\n"
     ]
    }
   ],
   "source": [
    "import os\n",
    "import numpy as np\n",
    "from PIL import Image\n",
    "from sklearn.model_selection import train_test_split\n",
    "from tensorflow.keras.preprocessing.image import ImageDataGenerator\n",
    "import tensorflow as tf\n",
    "\n",
    "dataset_dir = \"archive/train_test\"\n",
    "\n",
    "def preprocess_image(image_path, target_size=(384, 384)):\n",
    "    with Image.open(image_path) as image:\n",
    "        image = image.convert(\"RGB\")\n",
    "    image = image.resize(target_size)\n",
    "    preprocessed_image = np.array(image) / 255.0\n",
    "    return preprocessed_image\n",
    "\n",
    "def is_authentic(filename):\n",
    "    prefix = filename[:2]\n",
    "    return (prefix == \"au\" or prefix == \"Au\")\n",
    "\n",
    "images = []\n",
    "labels = []\n",
    "\n",
    "for filename in os.listdir(dataset_dir):\n",
    "    if filename.startswith(\".DS_Store\"):\n",
    "        continue\n",
    "    file_path = os.path.join(dataset_dir, filename)\n",
    "    preprocessed_image = preprocess_image(file_path)\n",
    "    images.append(preprocessed_image)\n",
    "    label = is_authentic(filename)\n",
    "    labels.append(label)\n",
    "\n",
    "images = np.array(images)\n",
    "labels = np.array(labels)\n",
    "\n",
    "data_augmentation = ImageDataGenerator(\n",
    "    rotation_range = 25,\n",
    "    height_shift_range = 0.25,\n",
    "    width_shift_range = 0.25,\n",
    "    vertical_flip = True,\n",
    "    horizontal_flip = True,\n",
    "    zoom_range = 0.25\n",
    ")\n",
    "\n",
    "train_images, test_images, train_labels, test_labels = train_test_split(images, labels, test_size=0.2, random_state=42)\n",
    "\n",
    "# Define the model architecture\n",
    "base = tf.keras.applications.EfficientNetV2S(include_top=False, input_shape=train_images.shape[1:])\n",
    "\n",
    "x = tf.keras.layers.GlobalAveragePooling2D()(base.output)\n",
    "x = tf.keras.layers.Dense(128, activation='relu')(x)\n",
    "output = tf.keras.layers.Dense(1, activation='sigmoid')(x)\n",
    "model = tf.keras.Model(inputs=base.input, outputs=output)\n",
    "\n",
    "# Compile and train the model\n",
    "model.compile(optimizer=tf.keras.optimizers.Adam(learning_rate=1e-4),\n",
    "              loss='binary_crossentropy', metrics=['accuracy'])\n",
    "\n",
    "results = model.fit(data_augmentation.flow(train_images, train_labels, batch_size=32), epochs=20,\n",
    "                    steps_per_epoch=len(train_images) // 32,\n",
    "                    validation_data=(test_images, test_labels))"
   ]
  },
  {
   "cell_type": "code",
   "execution_count": 2,
   "id": "dce83f62",
   "metadata": {},
   "outputs": [
    {
     "name": "stderr",
     "output_type": "stream",
     "text": [
      "WARNING:absl:Found untraced functions such as _jit_compiled_convolution_op, _jit_compiled_convolution_op, _jit_compiled_convolution_op, _jit_compiled_convolution_op, _jit_compiled_convolution_op while saving (showing 5 of 170). These functions will not be directly callable after loading.\n"
     ]
    },
    {
     "name": "stdout",
     "output_type": "stream",
     "text": [
      "INFO:tensorflow:Assets written to: /var/folders/x9/lnqw3ctd65g1t8sjc2w_k5hm0000gn/T/tmpj05ud2mc/assets\n"
     ]
    },
    {
     "name": "stderr",
     "output_type": "stream",
     "text": [
      "INFO:tensorflow:Assets written to: /var/folders/x9/lnqw3ctd65g1t8sjc2w_k5hm0000gn/T/tmpj05ud2mc/assets\n",
      "2023-04-13 17:52:37.449921: W tensorflow/compiler/mlir/lite/python/tf_tfl_flatbuffer_helpers.cc:362] Ignored output_format.\n",
      "2023-04-13 17:52:37.450255: W tensorflow/compiler/mlir/lite/python/tf_tfl_flatbuffer_helpers.cc:365] Ignored drop_control_dependency.\n"
     ]
    }
   ],
   "source": [
    "# Convert and save the model as a TensorFlow Lite file\n",
    "converter = tf.lite.TFLiteConverter.from_keras_model(model)\n",
    "tflite_model = converter.convert()\n",
    "with open('manipulation_detector_config_4.tflite', 'wb') as f:\n",
    "    f.write(tflite_model)"
   ]
  },
  {
   "cell_type": "code",
   "execution_count": 3,
   "id": "edb22de7",
   "metadata": {},
   "outputs": [
    {
     "name": "stdout",
     "output_type": "stream",
     "text": [
      "50/50 [==============================] - 11s 200ms/step - loss: 0.2932 - accuracy: 0.8959\n",
      "Test accuracy: 0.8959391117095947\n"
     ]
    }
   ],
   "source": [
    "# Evaluate the model on the testing set and print the accuracy\n",
    "test_loss, test_acc = model.evaluate(test_images, test_labels)\n",
    "print(\"Test accuracy:\", test_acc)"
   ]
  }
 ],
 "metadata": {
  "kernelspec": {
   "display_name": "Python 3 (ipykernel)",
   "language": "python",
   "name": "python3"
  },
  "language_info": {
   "codemirror_mode": {
    "name": "ipython",
    "version": 3
   },
   "file_extension": ".py",
   "mimetype": "text/x-python",
   "name": "python",
   "nbconvert_exporter": "python",
   "pygments_lexer": "ipython3",
   "version": "3.10.9"
  }
 },
 "nbformat": 4,
 "nbformat_minor": 5
}

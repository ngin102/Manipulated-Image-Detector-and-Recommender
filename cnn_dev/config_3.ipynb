{
 "cells": [
  {
   "cell_type": "code",
   "execution_count": 1,
   "id": "20cb0a1e",
   "metadata": {},
   "outputs": [
    {
     "name": "stdout",
     "output_type": "stream",
     "text": [
      "Metal device set to: Apple M1 Max\n",
      "Epoch 1/20\n"
     ]
    },
    {
     "name": "stderr",
     "output_type": "stream",
     "text": [
      "2023-04-13 11:12:54.839768: W tensorflow/core/platform/profile_utils/cpu_utils.cc:128] Failed to get CPU frequency: 0 Hz\n"
     ]
    },
    {
     "name": "stdout",
     "output_type": "stream",
     "text": [
      "196/196 [==============================] - 155s 641ms/step - loss: 0.5681 - accuracy: 0.6985 - val_loss: 0.4698 - val_accuracy: 0.7703\n",
      "Epoch 2/20\n",
      "196/196 [==============================] - 92s 458ms/step - loss: 0.4770 - accuracy: 0.7787 - val_loss: 0.4493 - val_accuracy: 0.7665\n",
      "Epoch 3/20\n",
      "196/196 [==============================] - 95s 483ms/step - loss: 0.4209 - accuracy: 0.8070 - val_loss: 0.4360 - val_accuracy: 0.7944\n",
      "Epoch 4/20\n",
      "196/196 [==============================] - 91s 466ms/step - loss: 0.3844 - accuracy: 0.8243 - val_loss: 0.4095 - val_accuracy: 0.7938\n",
      "Epoch 5/20\n",
      "196/196 [==============================] - 90s 459ms/step - loss: 0.3545 - accuracy: 0.8397 - val_loss: 0.3905 - val_accuracy: 0.8020\n",
      "Epoch 6/20\n",
      "196/196 [==============================] - 90s 460ms/step - loss: 0.3308 - accuracy: 0.8456 - val_loss: 0.4110 - val_accuracy: 0.7779\n",
      "Epoch 7/20\n",
      "196/196 [==============================] - 92s 469ms/step - loss: 0.3203 - accuracy: 0.8508 - val_loss: 0.4107 - val_accuracy: 0.7995\n",
      "Epoch 8/20\n",
      "196/196 [==============================] - 92s 468ms/step - loss: 0.3002 - accuracy: 0.8599 - val_loss: 0.4105 - val_accuracy: 0.8027\n",
      "Epoch 9/20\n",
      "196/196 [==============================] - 89s 452ms/step - loss: 0.2879 - accuracy: 0.8641 - val_loss: 0.4308 - val_accuracy: 0.8147\n",
      "Epoch 10/20\n",
      "196/196 [==============================] - 87s 444ms/step - loss: 0.2757 - accuracy: 0.8698 - val_loss: 0.4920 - val_accuracy: 0.7805\n",
      "Epoch 11/20\n",
      "196/196 [==============================] - 87s 444ms/step - loss: 0.2724 - accuracy: 0.8700 - val_loss: 0.4244 - val_accuracy: 0.7893\n",
      "Epoch 12/20\n",
      "196/196 [==============================] - 90s 454ms/step - loss: 0.2679 - accuracy: 0.8724 - val_loss: 0.4512 - val_accuracy: 0.7887\n",
      "Epoch 13/20\n",
      "196/196 [==============================] - 88s 446ms/step - loss: 0.2516 - accuracy: 0.8840 - val_loss: 0.4306 - val_accuracy: 0.7906\n",
      "Epoch 14/20\n",
      "196/196 [==============================] - 88s 447ms/step - loss: 0.2443 - accuracy: 0.8904 - val_loss: 0.5373 - val_accuracy: 0.7640\n",
      "Epoch 15/20\n",
      "196/196 [==============================] - 90s 458ms/step - loss: 0.2426 - accuracy: 0.8853 - val_loss: 0.4913 - val_accuracy: 0.7887\n",
      "Epoch 16/20\n",
      "196/196 [==============================] - 88s 444ms/step - loss: 0.2389 - accuracy: 0.8888 - val_loss: 0.4934 - val_accuracy: 0.7900\n",
      "Epoch 17/20\n",
      "196/196 [==============================] - 87s 441ms/step - loss: 0.2386 - accuracy: 0.8882 - val_loss: 0.4716 - val_accuracy: 0.7900\n",
      "Epoch 18/20\n",
      "196/196 [==============================] - 86s 439ms/step - loss: 0.2279 - accuracy: 0.8885 - val_loss: 0.5210 - val_accuracy: 0.8058\n",
      "Epoch 19/20\n",
      "196/196 [==============================] - 89s 453ms/step - loss: 0.2240 - accuracy: 0.8953 - val_loss: 0.4535 - val_accuracy: 0.8109\n",
      "Epoch 20/20\n",
      "196/196 [==============================] - 88s 447ms/step - loss: 0.2132 - accuracy: 0.8990 - val_loss: 0.6248 - val_accuracy: 0.7760\n"
     ]
    }
   ],
   "source": [
    "import os\n",
    "import numpy as np\n",
    "from PIL import Image\n",
    "from sklearn.model_selection import train_test_split\n",
    "from tensorflow.keras.preprocessing.image import ImageDataGenerator\n",
    "import tensorflow as tf\n",
    "\n",
    "dataset_dir = \"archive/train_test\"\n",
    "\n",
    "# Preprocesses an image before it is given to the model to ensure consistency\n",
    "# across all images that the model is learning off of.\n",
    "def preprocess_image(image_path):\n",
    "    # Load the image and convert it to RGB colour space; \n",
    "    # we want all images to be in same colour space for consistency.\n",
    "    with Image.open(image_path) as image:\n",
    "        image = image.convert(\"RGB\")\n",
    "    # Resize the image to a standard size of 256 x 256.\n",
    "    image = image.resize((256, 256))\n",
    "    # Convert the image to an array. Normalize its pixel values to be between 0 and 1.\n",
    "    # Since most images in the training/test dataset are jpegs and in RGB, assume that\n",
    "    # we can divide each pixel by 255 to normalize them to be between 0 and 1.\n",
    "    preprocessed_image = np.array(image) / 255.0\n",
    "    # Return the preprocessed image.\n",
    "    return preprocessed_image\n",
    "\n",
    "def is_authentic(filename):\n",
    "    prefix = filename[:2]\n",
    "    return (prefix == \"au\" or prefix == \"Au\")\n",
    "\n",
    "images = []\n",
    "labels = []\n",
    "\n",
    "for filename in os.listdir(dataset_dir):\n",
    "    if filename.startswith(\".DS_Store\"):\n",
    "        continue\n",
    "    file_path = os.path.join(dataset_dir, filename)\n",
    "    preprocessed_image = preprocess_image(file_path)\n",
    "    images.append(preprocessed_image)\n",
    "    label = is_authentic(filename)\n",
    "    labels.append(label)\n",
    "\n",
    "images = np.array(images)\n",
    "labels = np.array(labels)\n",
    "\n",
    "data_augmentation = ImageDataGenerator(\n",
    "    rotation_range = 25,\n",
    "    height_shift_range = 0.25,\n",
    "    width_shift_range = 0.25,\n",
    "    vertical_flip = True,\n",
    "    horizontal_flip = True,\n",
    "    zoom_range = 0.25\n",
    ")\n",
    "\n",
    "train_images, test_images, train_labels, test_labels = train_test_split(images, labels, test_size=0.2, random_state=42)\n",
    "\n",
    "# Define the model architecture\n",
    "base = tf.keras.applications.EfficientNetV2S(include_top=False, input_shape=train_images.shape[1:])\n",
    "\n",
    "x = tf.keras.layers.GlobalAveragePooling2D()(base.output)\n",
    "x = tf.keras.layers.Dense(128, activation='relu')(x)\n",
    "output = tf.keras.layers.Dense(1, activation='sigmoid')(x)\n",
    "model = tf.keras.Model(inputs=base.input, outputs=output)\n",
    "\n",
    "# Compile and train the model\n",
    "model.compile(optimizer=tf.keras.optimizers.Adam(learning_rate=1e-4),\n",
    "              loss='binary_crossentropy', metrics=['accuracy'])\n",
    "\n",
    "results = model.fit(data_augmentation.flow(train_images, train_labels, batch_size=32), epochs=20,\n",
    "                    steps_per_epoch=len(train_images) // 32,\n",
    "                    validation_data=(test_images, test_labels))"
   ]
  },
  {
   "cell_type": "code",
   "execution_count": 2,
   "id": "dce83f62",
   "metadata": {},
   "outputs": [
    {
     "name": "stderr",
     "output_type": "stream",
     "text": [
      "WARNING:absl:Found untraced functions such as _jit_compiled_convolution_op, _jit_compiled_convolution_op, _jit_compiled_convolution_op, _jit_compiled_convolution_op, _jit_compiled_convolution_op while saving (showing 5 of 170). These functions will not be directly callable after loading.\n"
     ]
    },
    {
     "name": "stdout",
     "output_type": "stream",
     "text": [
      "INFO:tensorflow:Assets written to: /var/folders/x9/lnqw3ctd65g1t8sjc2w_k5hm0000gn/T/tmp7zxtz85n/assets\n"
     ]
    },
    {
     "name": "stderr",
     "output_type": "stream",
     "text": [
      "INFO:tensorflow:Assets written to: /var/folders/x9/lnqw3ctd65g1t8sjc2w_k5hm0000gn/T/tmp7zxtz85n/assets\n",
      "2023-04-13 11:46:07.388136: W tensorflow/compiler/mlir/lite/python/tf_tfl_flatbuffer_helpers.cc:362] Ignored output_format.\n",
      "2023-04-13 11:46:07.388377: W tensorflow/compiler/mlir/lite/python/tf_tfl_flatbuffer_helpers.cc:365] Ignored drop_control_dependency.\n"
     ]
    }
   ],
   "source": [
    "# Convert and save the model as a TensorFlow Lite file\n",
    "converter = tf.lite.TFLiteConverter.from_keras_model(model)\n",
    "tflite_model = converter.convert()\n",
    "with open('manipulation_detector_config_3.tflite', 'wb') as f:\n",
    "    f.write(tflite_model)"
   ]
  },
  {
   "cell_type": "code",
   "execution_count": 3,
   "id": "edb22de7",
   "metadata": {},
   "outputs": [
    {
     "name": "stdout",
     "output_type": "stream",
     "text": [
      "50/50 [==============================] - 5s 91ms/step - loss: 0.6248 - accuracy: 0.7760\n",
      "Test accuracy: 0.7760152220726013\n"
     ]
    }
   ],
   "source": [
    "# Evaluate the model on the testing set and print the accuracy\n",
    "test_loss, test_acc = model.evaluate(test_images, test_labels)\n",
    "print(\"Test accuracy:\", test_acc)"
   ]
  }
 ],
 "metadata": {
  "kernelspec": {
   "display_name": "Python 3 (ipykernel)",
   "language": "python",
   "name": "python3"
  },
  "language_info": {
   "codemirror_mode": {
    "name": "ipython",
    "version": 3
   },
   "file_extension": ".py",
   "mimetype": "text/x-python",
   "name": "python",
   "nbconvert_exporter": "python",
   "pygments_lexer": "ipython3",
   "version": "3.10.9"
  }
 },
 "nbformat": 4,
 "nbformat_minor": 5
}

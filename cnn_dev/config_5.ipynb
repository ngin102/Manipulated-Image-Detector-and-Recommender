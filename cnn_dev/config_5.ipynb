{
 "cells": [
  {
   "cell_type": "code",
   "execution_count": 1,
   "id": "20cb0a1e",
   "metadata": {},
   "outputs": [
    {
     "name": "stdout",
     "output_type": "stream",
     "text": [
      "Metal device set to: Apple M1 Max\n",
      "Epoch 1/20\n"
     ]
    },
    {
     "name": "stderr",
     "output_type": "stream",
     "text": [
      "2023-04-24 11:50:04.711770: W tensorflow/core/platform/profile_utils/cpu_utils.cc:128] Failed to get CPU frequency: 0 Hz\n"
     ]
    },
    {
     "name": "stdout",
     "output_type": "stream",
     "text": [
      "190/190 [==============================] - 72s 314ms/step - loss: 0.6325 - accuracy: 0.6482 - val_loss: 28.3808 - val_accuracy: 0.4342\n",
      "Epoch 2/20\n",
      "190/190 [==============================] - 48s 247ms/step - loss: 0.6013 - accuracy: 0.6742 - val_loss: 3.7882 - val_accuracy: 0.6796\n",
      "Epoch 3/20\n",
      "190/190 [==============================] - 47s 244ms/step - loss: 0.5675 - accuracy: 0.7089 - val_loss: 0.6795 - val_accuracy: 0.7145\n",
      "Epoch 4/20\n",
      "190/190 [==============================] - 47s 248ms/step - loss: 0.5399 - accuracy: 0.7360 - val_loss: 1.0477 - val_accuracy: 0.7000\n",
      "Epoch 5/20\n",
      "190/190 [==============================] - 47s 246ms/step - loss: 0.5305 - accuracy: 0.7357 - val_loss: 1.6984 - val_accuracy: 0.6816\n",
      "Epoch 6/20\n",
      "190/190 [==============================] - 47s 245ms/step - loss: 0.5139 - accuracy: 0.7530 - val_loss: 19.7907 - val_accuracy: 0.7546\n",
      "Epoch 7/20\n",
      "190/190 [==============================] - 47s 244ms/step - loss: 0.4913 - accuracy: 0.7697 - val_loss: 0.5958 - val_accuracy: 0.7717\n",
      "Epoch 8/20\n",
      "190/190 [==============================] - 47s 245ms/step - loss: 0.4731 - accuracy: 0.7794 - val_loss: 0.6617 - val_accuracy: 0.7066\n",
      "Epoch 9/20\n",
      "190/190 [==============================] - 47s 245ms/step - loss: 0.4512 - accuracy: 0.7931 - val_loss: 0.8459 - val_accuracy: 0.7171\n",
      "Epoch 10/20\n",
      "190/190 [==============================] - 47s 245ms/step - loss: 0.4374 - accuracy: 0.7974 - val_loss: 0.5332 - val_accuracy: 0.7566\n",
      "Epoch 11/20\n",
      "190/190 [==============================] - 47s 245ms/step - loss: 0.4114 - accuracy: 0.8155 - val_loss: 0.6640 - val_accuracy: 0.7296\n",
      "Epoch 12/20\n",
      "190/190 [==============================] - 47s 246ms/step - loss: 0.3893 - accuracy: 0.8263 - val_loss: 0.4654 - val_accuracy: 0.8026\n",
      "Epoch 13/20\n",
      "190/190 [==============================] - 47s 245ms/step - loss: 0.3620 - accuracy: 0.8345 - val_loss: 0.3582 - val_accuracy: 0.8572\n",
      "Epoch 14/20\n",
      "190/190 [==============================] - 47s 245ms/step - loss: 0.3571 - accuracy: 0.8349 - val_loss: 0.3968 - val_accuracy: 0.8355\n",
      "Epoch 15/20\n",
      "190/190 [==============================] - 47s 247ms/step - loss: 0.3373 - accuracy: 0.8488 - val_loss: 0.8550 - val_accuracy: 0.5105\n",
      "Epoch 16/20\n",
      "190/190 [==============================] - 47s 245ms/step - loss: 0.3285 - accuracy: 0.8505 - val_loss: 0.3816 - val_accuracy: 0.8638\n",
      "Epoch 17/20\n",
      "190/190 [==============================] - 47s 245ms/step - loss: 0.2943 - accuracy: 0.8645 - val_loss: 0.3800 - val_accuracy: 0.8105\n",
      "Epoch 18/20\n",
      "190/190 [==============================] - 47s 245ms/step - loss: 0.2820 - accuracy: 0.8691 - val_loss: 0.5037 - val_accuracy: 0.7684\n",
      "Epoch 19/20\n",
      "190/190 [==============================] - 47s 247ms/step - loss: 0.2654 - accuracy: 0.8786 - val_loss: 0.2991 - val_accuracy: 0.8809\n",
      "Epoch 20/20\n",
      "190/190 [==============================] - 48s 249ms/step - loss: 0.2574 - accuracy: 0.8794 - val_loss: 0.3716 - val_accuracy: 0.8257\n"
     ]
    },
    {
     "name": "stderr",
     "output_type": "stream",
     "text": [
      "WARNING:absl:Found untraced functions such as _jit_compiled_convolution_op, _jit_compiled_convolution_op, _jit_compiled_convolution_op, _jit_compiled_convolution_op, _jit_compiled_convolution_op while saving (showing 5 of 94). These functions will not be directly callable after loading.\n"
     ]
    },
    {
     "name": "stdout",
     "output_type": "stream",
     "text": [
      "INFO:tensorflow:Assets written to: /var/folders/x9/lnqw3ctd65g1t8sjc2w_k5hm0000gn/T/tmpo9svwhmt/assets\n"
     ]
    },
    {
     "name": "stderr",
     "output_type": "stream",
     "text": [
      "INFO:tensorflow:Assets written to: /var/folders/x9/lnqw3ctd65g1t8sjc2w_k5hm0000gn/T/tmpo9svwhmt/assets\n",
      "2023-04-24 12:07:07.022302: W tensorflow/compiler/mlir/lite/python/tf_tfl_flatbuffer_helpers.cc:362] Ignored output_format.\n",
      "2023-04-24 12:07:07.022319: W tensorflow/compiler/mlir/lite/python/tf_tfl_flatbuffer_helpers.cc:365] Ignored drop_control_dependency.\n"
     ]
    },
    {
     "name": "stdout",
     "output_type": "stream",
     "text": [
      "48/48 [==============================] - 3s 60ms/step - loss: 0.3716 - accuracy: 0.8257\n",
      "Test accuracy: 0.8256579041481018\n"
     ]
    }
   ],
   "source": [
    "import os\n",
    "import numpy as np\n",
    "from PIL import Image\n",
    "from sklearn.model_selection import train_test_split\n",
    "from tensorflow.keras.preprocessing.image import ImageDataGenerator\n",
    "import tensorflow as tf\n",
    "\n",
    "# Set the path to your dataset directory\n",
    "dataset_dir = \"archive_2/train_test\"\n",
    "\n",
    "# Preprocesses an image before it is given to the model to ensure consistency\n",
    "# across all images that the model is learning off of.\n",
    "def preprocess_image(image_path):\n",
    "    # Load the image and convert it to RGB colour space; \n",
    "    # we want all images to be in same colour space for consistency.\n",
    "    with Image.open(image_path) as image:\n",
    "        image = image.convert(\"RGB\")\n",
    "    # Resize the image to a standard size of 256 x 256.\n",
    "    image = image.resize((256, 256))\n",
    "    # Convert the image to an array. Normalize its pixel values to be between 0 and 1.\n",
    "    # Since most images in the training/test dataset are jpegs and in RGB, assume that\n",
    "    # we can divide each pixel by 255 to normalize them to be between 0 and 1.\n",
    "    preprocessed_image = np.array(image) / 255.0\n",
    "    # Return the preprocessed image.\n",
    "    return preprocessed_image\n",
    "\n",
    "# Determine whether an image is authentic or not based on its filename.\n",
    "def is_authentic(filename):\n",
    "    # Extract the first two letters of the image's filename (the prefix).\n",
    "    prefix = filename[:2]\n",
    "    # If the prefix is \"au\" or \"Au\", the image is authentic (return true).\n",
    "    # Otherwise, it is manipulated (return false).\n",
    "    return (prefix == \"au\" or prefix == \"Au\")\n",
    "\n",
    "# Create empty lists to store the images and labels.\n",
    "images = []\n",
    "labels = []\n",
    "\n",
    "# Loop over the images in the dataset directory\n",
    "for filename in os.listdir(dataset_dir):\n",
    "    # Ignore .DS_Store - was getting errors that this file was being read\n",
    "    # when I was tried to run the model.\n",
    "    if filename.startswith(\".DS_Store\"):\n",
    "        continue\n",
    "    # Get the path to the image file.\n",
    "    file_path = os.path.join(dataset_dir, filename)\n",
    "    # Preprocess the image and add the preprocessed_image to the images list.\n",
    "    preprocessed_image = preprocess_image(file_path)\n",
    "    images.append(preprocessed_image)\n",
    "    # Determine whether the image is authentic or not, and add this label to the labels list.\n",
    "    label = is_authentic(filename)\n",
    "    labels.append(label)\n",
    "\n",
    "# Convert the images and labels lists to NumPy arrays.\n",
    "images = np.array(images)\n",
    "labels = np.array(labels)\n",
    "\n",
    "# Define an ImageDataGenerator, which we will use to perform data augmentation on the set of training images.\n",
    "# Using data augmentation, we can increase the size of our training set by generating modified versions\n",
    "# of the original training images (this helps to avoid overfitting).\n",
    "# All values have been randomly set to 25 or True.\n",
    "data_augmentation = ImageDataGenerator(\n",
    "    rotation_range = 25,\n",
    "    height_shift_range = 0.25,\n",
    "    width_shift_range = 0.25,\n",
    "    vertical_flip = True,\n",
    "    horizontal_flip = True,\n",
    "    zoom_range = 0.25\n",
    ")\n",
    "\n",
    "# Split the dataset into separate training and testing sets.\n",
    "train_images, test_images, train_labels, test_labels = train_test_split(images, labels, test_size=0.2, random_state=42)\n",
    "\n",
    "# Defining the convolutional neural network.\n",
    "# Use InceptionV3 as a starting point we will built our CNN off of; it acts as feature extractor.\n",
    "# We are using InceptionV3 to help us learn how to tell if a picture has been manipulated or if it is authentic, and then \n",
    "# feeding this information to the CNN (note that we do not include the top, final layers of the InceptionV3 model, since \n",
    "# we will build our own later that suit our specific classification task).\n",
    "base = tf.keras.applications.InceptionV3(include_top = False, input_shape = train_images.shape[1:]) #3 channels for Red, Green and Blue\n",
    "# Simplify the information outputted by InceptionV3 using pooling (it is most likely too extensive to use directly).\n",
    "# Pooling will summarize the information into a selection of key features.\n",
    "x = tf.keras.layers.GlobalAveragePooling2D()(base.output)\n",
    "# Use the Dense() method to make a prediction (whether the image is authentic or not) based on the summarized formation \n",
    "# we get from Pooling - we are creating 128 features and using the ReLu activation function.\n",
    "x = tf.keras.layers.Dense(128, activation = 'relu')(x)\n",
    "# Create the final layer of the neural network; take the features from the previous Dense layer and process them to\n",
    "# create a single output (that tells us whether the image is authentic or not).\n",
    "# We only want output in this final layer; we use the sigmoid function since it is used for binary classification (we only have), \n",
    "# 2 classes), and this is a binary classification task.\n",
    "output = tf.keras.layers.Dense(1, activation = 'sigmoid')(x)\n",
    "# Create an instance of the model; note that we input the inputs to the InceptionV3 model and output the output from\n",
    "# the final layer.\n",
    "model = tf.keras.Model(inputs = base.input, outputs = output)\n",
    "\n",
    "# Now, compile the model with binary crossentropy loss and Adam optimizer.\n",
    "# We are using binary crossentropy loss function, since this is a binary classification task.\n",
    "# Adam is a popular optimization algorithm.\n",
    "model.compile(optimizer = 'adam', loss = 'binary_crossentropy', metrics = ['accuracy'])\n",
    "\n",
    "# Train the model for 20 epochs with a batch size of 32.\n",
    "results = model.fit(data_augmentation.flow(train_images, train_labels, batch_size = 32), epochs = 20,\n",
    "                    steps_per_epoch = len(train_images) / 32,\n",
    "                    validation_data = (test_images, test_labels))\n",
    "\n",
    "# Save the trained model as a tflite file.\n",
    "converter = tf.lite.TFLiteConverter.from_keras_model(model)\n",
    "tflite_model = converter.convert()\n",
    "with open('manipulation_detector_config_5.tflite', 'wb') as f:\n",
    "    f.write(tflite_model)\n",
    "\n",
    "# Evaluate the model on the testing set\n",
    "test_loss, test_acc = model.evaluate(test_images, test_labels)\n",
    "print(\"Test accuracy:\", test_acc)"
   ]
  }
 ],
 "metadata": {
  "kernelspec": {
   "display_name": "Python 3 (ipykernel)",
   "language": "python",
   "name": "python3"
  },
  "language_info": {
   "codemirror_mode": {
    "name": "ipython",
    "version": 3
   },
   "file_extension": ".py",
   "mimetype": "text/x-python",
   "name": "python",
   "nbconvert_exporter": "python",
   "pygments_lexer": "ipython3",
   "version": "3.10.9"
  }
 },
 "nbformat": 4,
 "nbformat_minor": 5
}
